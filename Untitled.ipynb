{
 "cells": [
  {
   "cell_type": "code",
   "execution_count": 1,
   "metadata": {
    "collapsed": false
   },
   "outputs": [
    {
     "data": {
      "text/html": [
       "<div>\n",
       "<table border=\"1\" class=\"dataframe\">\n",
       "  <thead>\n",
       "    <tr style=\"text-align: right;\">\n",
       "      <th></th>\n",
       "      <th>address</th>\n",
       "      <th>categories</th>\n",
       "      <th>city</th>\n",
       "      <th>country</th>\n",
       "      <th>latitude</th>\n",
       "      <th>longitude</th>\n",
       "      <th>name</th>\n",
       "      <th>postalCode</th>\n",
       "      <th>province</th>\n",
       "      <th>reviews.date</th>\n",
       "      <th>reviews.dateAdded</th>\n",
       "      <th>reviews.doRecommend</th>\n",
       "      <th>reviews.id</th>\n",
       "      <th>reviews.rating</th>\n",
       "      <th>reviews.text</th>\n",
       "      <th>reviews.title</th>\n",
       "      <th>reviews.userCity</th>\n",
       "      <th>reviews.username</th>\n",
       "      <th>reviews.userProvince</th>\n",
       "    </tr>\n",
       "  </thead>\n",
       "  <tbody>\n",
       "    <tr>\n",
       "      <th>0</th>\n",
       "      <td>Riviera San Nicol 11/a</td>\n",
       "      <td>Hotels</td>\n",
       "      <td>Mableton</td>\n",
       "      <td>US</td>\n",
       "      <td>45.421611</td>\n",
       "      <td>12.376187</td>\n",
       "      <td>Hotel Russo Palace</td>\n",
       "      <td>30126</td>\n",
       "      <td>GA</td>\n",
       "      <td>2013-09-22T00:00:00Z</td>\n",
       "      <td>2016-10-24T00:00:25Z</td>\n",
       "      <td>NaN</td>\n",
       "      <td>NaN</td>\n",
       "      <td>4.0</td>\n",
       "      <td>Pleasant 10 min walk along the sea front to th...</td>\n",
       "      <td>Good location away from the crouds</td>\n",
       "      <td>NaN</td>\n",
       "      <td>Russ (kent)</td>\n",
       "      <td>NaN</td>\n",
       "    </tr>\n",
       "    <tr>\n",
       "      <th>1</th>\n",
       "      <td>Riviera San Nicol 11/a</td>\n",
       "      <td>Hotels</td>\n",
       "      <td>Mableton</td>\n",
       "      <td>US</td>\n",
       "      <td>45.421611</td>\n",
       "      <td>12.376187</td>\n",
       "      <td>Hotel Russo Palace</td>\n",
       "      <td>30126</td>\n",
       "      <td>GA</td>\n",
       "      <td>2015-04-03T00:00:00Z</td>\n",
       "      <td>2016-10-24T00:00:25Z</td>\n",
       "      <td>NaN</td>\n",
       "      <td>NaN</td>\n",
       "      <td>5.0</td>\n",
       "      <td>Really lovely hotel. Stayed on the very top fl...</td>\n",
       "      <td>Great hotel with Jacuzzi bath!</td>\n",
       "      <td>NaN</td>\n",
       "      <td>A Traveler</td>\n",
       "      <td>NaN</td>\n",
       "    </tr>\n",
       "    <tr>\n",
       "      <th>2</th>\n",
       "      <td>Riviera San Nicol 11/a</td>\n",
       "      <td>Hotels</td>\n",
       "      <td>Mableton</td>\n",
       "      <td>US</td>\n",
       "      <td>45.421611</td>\n",
       "      <td>12.376187</td>\n",
       "      <td>Hotel Russo Palace</td>\n",
       "      <td>30126</td>\n",
       "      <td>GA</td>\n",
       "      <td>2014-05-13T00:00:00Z</td>\n",
       "      <td>2016-10-24T00:00:25Z</td>\n",
       "      <td>NaN</td>\n",
       "      <td>NaN</td>\n",
       "      <td>5.0</td>\n",
       "      <td>Ett mycket bra hotell. Det som drog ner betyge...</td>\n",
       "      <td>Lugnt l��ge</td>\n",
       "      <td>NaN</td>\n",
       "      <td>Maud</td>\n",
       "      <td>NaN</td>\n",
       "    </tr>\n",
       "    <tr>\n",
       "      <th>3</th>\n",
       "      <td>Riviera San Nicol 11/a</td>\n",
       "      <td>Hotels</td>\n",
       "      <td>Mableton</td>\n",
       "      <td>US</td>\n",
       "      <td>45.421611</td>\n",
       "      <td>12.376187</td>\n",
       "      <td>Hotel Russo Palace</td>\n",
       "      <td>30126</td>\n",
       "      <td>GA</td>\n",
       "      <td>2013-10-27T00:00:00Z</td>\n",
       "      <td>2016-10-24T00:00:25Z</td>\n",
       "      <td>NaN</td>\n",
       "      <td>NaN</td>\n",
       "      <td>5.0</td>\n",
       "      <td>We stayed here for four nights in October. The...</td>\n",
       "      <td>Good location on the Lido.</td>\n",
       "      <td>NaN</td>\n",
       "      <td>Julie</td>\n",
       "      <td>NaN</td>\n",
       "    </tr>\n",
       "    <tr>\n",
       "      <th>4</th>\n",
       "      <td>Riviera San Nicol 11/a</td>\n",
       "      <td>Hotels</td>\n",
       "      <td>Mableton</td>\n",
       "      <td>US</td>\n",
       "      <td>45.421611</td>\n",
       "      <td>12.376187</td>\n",
       "      <td>Hotel Russo Palace</td>\n",
       "      <td>30126</td>\n",
       "      <td>GA</td>\n",
       "      <td>2015-03-05T00:00:00Z</td>\n",
       "      <td>2016-10-24T00:00:25Z</td>\n",
       "      <td>NaN</td>\n",
       "      <td>NaN</td>\n",
       "      <td>5.0</td>\n",
       "      <td>We stayed here for four nights in October. The...</td>\n",
       "      <td>������ ���������������</td>\n",
       "      <td>NaN</td>\n",
       "      <td>sungchul</td>\n",
       "      <td>NaN</td>\n",
       "    </tr>\n",
       "  </tbody>\n",
       "</table>\n",
       "</div>"
      ],
      "text/plain": [
       "                  address categories      city country   latitude  longitude  \\\n",
       "0  Riviera San Nicol 11/a     Hotels  Mableton      US  45.421611  12.376187   \n",
       "1  Riviera San Nicol 11/a     Hotels  Mableton      US  45.421611  12.376187   \n",
       "2  Riviera San Nicol 11/a     Hotels  Mableton      US  45.421611  12.376187   \n",
       "3  Riviera San Nicol 11/a     Hotels  Mableton      US  45.421611  12.376187   \n",
       "4  Riviera San Nicol 11/a     Hotels  Mableton      US  45.421611  12.376187   \n",
       "\n",
       "                 name postalCode province          reviews.date  \\\n",
       "0  Hotel Russo Palace      30126       GA  2013-09-22T00:00:00Z   \n",
       "1  Hotel Russo Palace      30126       GA  2015-04-03T00:00:00Z   \n",
       "2  Hotel Russo Palace      30126       GA  2014-05-13T00:00:00Z   \n",
       "3  Hotel Russo Palace      30126       GA  2013-10-27T00:00:00Z   \n",
       "4  Hotel Russo Palace      30126       GA  2015-03-05T00:00:00Z   \n",
       "\n",
       "      reviews.dateAdded  reviews.doRecommend  reviews.id  reviews.rating  \\\n",
       "0  2016-10-24T00:00:25Z                  NaN         NaN             4.0   \n",
       "1  2016-10-24T00:00:25Z                  NaN         NaN             5.0   \n",
       "2  2016-10-24T00:00:25Z                  NaN         NaN             5.0   \n",
       "3  2016-10-24T00:00:25Z                  NaN         NaN             5.0   \n",
       "4  2016-10-24T00:00:25Z                  NaN         NaN             5.0   \n",
       "\n",
       "                                        reviews.text  \\\n",
       "0  Pleasant 10 min walk along the sea front to th...   \n",
       "1  Really lovely hotel. Stayed on the very top fl...   \n",
       "2  Ett mycket bra hotell. Det som drog ner betyge...   \n",
       "3  We stayed here for four nights in October. The...   \n",
       "4  We stayed here for four nights in October. The...   \n",
       "\n",
       "                        reviews.title reviews.userCity reviews.username  \\\n",
       "0  Good location away from the crouds              NaN      Russ (kent)   \n",
       "1      Great hotel with Jacuzzi bath!              NaN       A Traveler   \n",
       "2                         Lugnt l��ge              NaN             Maud   \n",
       "3          Good location on the Lido.              NaN            Julie   \n",
       "4              ������ ���������������              NaN         sungchul   \n",
       "\n",
       "  reviews.userProvince  \n",
       "0                  NaN  \n",
       "1                  NaN  \n",
       "2                  NaN  \n",
       "3                  NaN  \n",
       "4                  NaN  "
      ]
     },
     "execution_count": 1,
     "metadata": {},
     "output_type": "execute_result"
    }
   ],
   "source": [
    "import pandas as pd\n",
    "import numpy as np\n",
    "\n",
    "data = pd.read_csv('7282_1.csv')\n",
    "data.head()"
   ]
  },
  {
   "cell_type": "code",
   "execution_count": 143,
   "metadata": {
    "collapsed": false
   },
   "outputs": [
    {
     "data": {
      "text/plain": [
       "(35912, 20)"
      ]
     },
     "execution_count": 143,
     "metadata": {},
     "output_type": "execute_result"
    }
   ],
   "source": [
    "data.shape"
   ]
  },
  {
   "cell_type": "code",
   "execution_count": 139,
   "metadata": {
    "collapsed": false
   },
   "outputs": [
    {
     "name": "stdout",
     "output_type": "stream",
     "text": [
      "unique reivew portion 0.9578135442192025\n"
     ]
    }
   ],
   "source": [
    "#unique review\n",
    "print('unique reivew portion',data['reviews.text'].nunique()/data.shape[0])\n"
   ]
  },
  {
   "cell_type": "markdown",
   "metadata": {},
   "source": [
    "## review_length appear the most"
   ]
  },
  {
   "cell_type": "code",
   "execution_count": null,
   "metadata": {
    "collapsed": true
   },
   "outputs": [],
   "source": [
    "data['review_length']=data['reviews.text'].str.len()"
   ]
  },
  {
   "cell_type": "code",
   "execution_count": 99,
   "metadata": {
    "collapsed": false
   },
   "outputs": [
    {
     "data": {
      "text/plain": [
       "Text(0,0.5,'count')"
      ]
     },
     "execution_count": 99,
     "metadata": {},
     "output_type": "execute_result"
    },
    {
     "data": {
      "image/png": "[encoded data removed]",
      "text/plain": [
       "<matplotlib.figure.Figure at 0x198fd179358>"
      ]
     },
     "metadata": {},
     "output_type": "display_data"
    }
   ],
   "source": [
    "d1 = pd.DataFrame(data.groupby('review_length')['reviews.rating'].count().sort_values(ascending=False))\n",
    "c = d1.head(20).plot(kind='bar',legend=False)\n",
    "c.set_ylabel('count')"
   ]
  },
  {
   "cell_type": "markdown",
   "metadata": {},
   "source": [
    "### inspect review length equals to 103 "
   ]
  },
  {
   "cell_type": "code",
   "execution_count": 383,
   "metadata": {
    "collapsed": false
   },
   "outputs": [
    {
     "data": {
      "text/plain": [
       "<matplotlib.axes._subplots.AxesSubplot at 0x1989e06f780>"
      ]
     },
     "execution_count": 383,
     "metadata": {},
     "output_type": "execute_result"
    },
    {
     "data": {
      "image/png": "[encoded data removed]",
      "text/plain": [
       "<matplotlib.figure.Figure at 0x198a7877f98>"
      ]
     },
     "metadata": {},
     "output_type": "display_data"
    }
   ],
   "source": [
    "data[data['review_length']==103]['reviews.rating'].value_counts().plot('bar')"
   ]
  },
  {
   "cell_type": "code",
   "execution_count": 387,
   "metadata": {
    "collapsed": false
   },
   "outputs": [
    {
     "data": {
      "text/plain": [
       "to share your opinion of this businesswith YP visitors across the United Statesand in your neighborhood    199\n",
       "zuvorkommenede hanseatische Freundlichkeit Lage perfekt Zimmer ausreichend gerumig fr kurzen Aufenthalt      2\n",
       "Simple and clean. Nice staff, good food in the restaurant. Close to the highway and a Fleet Farm store.      2\n",
       "La habitacin muy bien. El personal del hotel muy amable y servicial. Calidad de los alimentos muy bien.      2\n",
       "The owners were accommodating, helpful, friendly and you can tell they are working to fix up the place!      2\n",
       "The inside of hotel and rooms are clean an maintained well, the outside appearance needs more attention      1\n",
       "It was extremely nice for the rate! Very clean and comfortable. I would recommend this hotel to anyone!      1\n",
       "My husband slipped and fell flat on his back in the shower fortunately, he didn't suffer serious injury      1\n",
       "Stayed here lots of times. Near to restaurants, shops etc, about a 10min stroll. No doubt will be back.      1\n",
       "The hotel staff was very friendly and helpful. I was impressed with the cleanliness of the facililties.      1\n",
       "Name: reviews.text, dtype: int64"
      ]
     },
     "execution_count": 387,
     "metadata": {},
     "output_type": "execute_result"
    }
   ],
   "source": [
    "data[data['review_length']==103]['reviews.text'].value_counts()[:10]"
   ]
  },
  {
   "cell_type": "markdown",
   "metadata": {},
   "source": [
    "## inspect user who give the most reviews"
   ]
  },
  {
   "cell_type": "code",
   "execution_count": 388,
   "metadata": {
    "collapsed": false
   },
   "outputs": [
    {
     "data": {
      "image/png": "[encoded data removed]",
      "text/plain": [
       "<matplotlib.figure.Figure at 0x19888e3f470>"
      ]
     },
     "metadata": {},
     "output_type": "display_data"
    }
   ],
   "source": [
    "#suspicous users give more reviews\n",
    "\n",
    "d3 = pd.DataFrame(data['reviews.username'].value_counts()[:20])\n",
    "sus_users = d3.index.values\n",
    "\n",
    "j=1\n",
    "plt.figure(figsize=(20,20))\n",
    "for i in sus_users:\n",
    "    plt.subplot(4,5,j)\n",
    "    p = data[data['reviews.username']==i]['reviews.rating'].value_counts().plot('bar')\n",
    "    p.set_xlabel(i)\n",
    "    j+=1"
   ]
  },
  {
   "cell_type": "code",
   "execution_count": 126,
   "metadata": {
    "collapsed": false
   },
   "outputs": [
    {
     "data": {
      "text/plain": [
       "to share your opinion of this businesswith YP visitors across the United Statesand in your neighborhood                                                                                                              199\n",
       "I had a nice stay. Clean, comfortable, and helpful staff. I will stay there again                                                                                                                                      1\n",
       "Very good. we mistakenly stayed in the north tower,which is the children's tower, so no coffee pot! Next time we will sure to stay in the south tower, adults only, coffee pots and mini fridge. We were unaware.      1\n",
       "Name: reviews.text, dtype: int64"
      ]
     },
     "execution_count": 126,
     "metadata": {},
     "output_type": "execute_result"
    }
   ],
   "source": [
    "#username inspection\n",
    "data.loc[data['reviews.username']=='write a review','reviews.text'].value_counts()"
   ]
  },
  {
   "cell_type": "code",
   "execution_count": 128,
   "metadata": {
    "collapsed": false
   },
   "outputs": [
    {
     "data": {
      "text/plain": [
       "xxxxxxxxxxxxxxxxxxxxxxxxxxxxxxxxxxxxxxxxxx                                                     105\n",
       "Good location near restaurants, shopping indoor water park. Friendly staff. Good breakfast.      1\n",
       "Close to river and downtown by trolley.clean but small                                           1\n",
       "Name: reviews.text, dtype: int64"
      ]
     },
     "execution_count": 128,
     "metadata": {},
     "output_type": "execute_result"
    }
   ],
   "source": [
    "data.loc[data['reviews.username']==sus_users[8],'reviews.text'].value_counts()"
   ]
  },
  {
   "cell_type": "code",
   "execution_count": 135,
   "metadata": {
    "collapsed": false
   },
   "outputs": [
    {
     "name": "stdout",
     "output_type": "stream",
     "text": [
      "linda unique reviews 54\n",
      "linda total reviews 54\n"
     ]
    }
   ],
   "source": [
    "print ('linda unique reviews',data.loc[data['reviews.username']=='Linda','reviews.text'].nunique())\n",
    "print('linda total reviews', data.loc[data['reviews.username']=='Linda','reviews.text'].count())"
   ]
  },
  {
   "cell_type": "code",
   "execution_count": 136,
   "metadata": {
    "collapsed": false
   },
   "outputs": [
    {
     "name": "stdout",
     "output_type": "stream",
     "text": [
      "Michael unique reviews 164\n",
      "Michael total reviews 164\n"
     ]
    }
   ],
   "source": [
    "print ('Michael unique reviews',data.loc[data['reviews.username']=='Michael','reviews.text'].nunique())\n",
    "print('Michael total reviews', data.loc[data['reviews.username']=='Michael','reviews.text'].count())"
   ]
  },
  {
   "cell_type": "markdown",
   "metadata": {},
   "source": [
    "## inspect user who give the only one review"
   ]
  },
  {
   "cell_type": "code",
   "execution_count": 402,
   "metadata": {
    "collapsed": false
   },
   "outputs": [
    {
     "data": {
      "text/plain": [
       "<matplotlib.axes._subplots.AxesSubplot at 0x198a7eacdd8>"
      ]
     },
     "execution_count": 402,
     "metadata": {},
     "output_type": "execute_result"
    },
    {
     "data": {
      "image/png": "[encoded data removed]",
      "text/plain": [
       "<matplotlib.figure.Figure at 0x198a7f0c780>"
      ]
     },
     "metadata": {},
     "output_type": "display_data"
    }
   ],
   "source": [
    "data.loc[(data['reviews.username'].value_counts()==1).values,'reviews.rating'].value_counts()[:10].plot('bar')"
   ]
  },
  {
   "cell_type": "markdown",
   "metadata": {},
   "source": [
    "# USE NLTK to stem,tokenize"
   ]
  },
  {
   "cell_type": "code",
   "execution_count": 146,
   "metadata": {
    "collapsed": false
   },
   "outputs": [],
   "source": [
    "import nltk\n",
    "import re\n",
    "from sklearn.feature_extraction.text import CountVectorizer\n",
    "import lda\n",
    "import numpy as np\n",
    "import json \n",
    "import operator"
   ]
  },
  {
   "cell_type": "code",
   "execution_count": 147,
   "metadata": {
    "collapsed": true
   },
   "outputs": [],
   "source": [
    "from nltk.corpus import stopwords\n",
    "stop_words_list = stopwords.words('english')\n",
    "from nltk.stem.snowball import SnowballStemmer\n",
    "stemmer = SnowballStemmer(\"english\")"
   ]
  },
  {
   "cell_type": "code",
   "execution_count": 148,
   "metadata": {
    "collapsed": false
   },
   "outputs": [
    {
     "name": "stderr",
     "output_type": "stream",
     "text": [
      "C:\\Users\\xgao\\Anaconda3\\lib\\site-packages\\gensim\\utils.py:1167: UserWarning: detected Windows; aliasing chunkize to chunkize_serial\n",
      "  warnings.warn(\"detected Windows; aliasing chunkize to chunkize_serial\")\n"
     ]
    }
   ],
   "source": [
    "\n",
    "import gensim\n",
    "from collections import defaultdict\n",
    "\n",
    "from gensim import corpora, models, similarities\n",
    "\n",
    "from __future__ import division"
   ]
  },
  {
   "cell_type": "code",
   "execution_count": 149,
   "metadata": {
    "collapsed": true
   },
   "outputs": [],
   "source": [
    "def token_stem(text):\n",
    "   \n",
    "    \n",
    "    tokens = [word for sent in nltk.sent_tokenize(text) for word in nltk.word_tokenize(sent)]\n",
    "    word_tokens = []\n",
    "    for token in tokens:\n",
    "        if re.search('[a-zA-Z]', token):\n",
    "            word_tokens.append(token)\n",
    "    stems = [stemmer.stem(t) for t in word_tokens]\n",
    "    return stems"
   ]
  },
  {
   "cell_type": "code",
   "execution_count": 150,
   "metadata": {
    "collapsed": true
   },
   "outputs": [],
   "source": [
    "def tokenize(text):\n",
    "    \n",
    "    tokens = [word for sent in nltk.sent_tokenize(text) for word in nltk.word_tokenize(sent)]\n",
    "    word_tokens = []\n",
    "    for token in tokens:\n",
    "        if re.search('[a-zA-Z]', token):\n",
    "            word_tokens.append(token)\n",
    "    return word_tokens"
   ]
  },
  {
   "cell_type": "code",
   "execution_count": 165,
   "metadata": {
    "collapsed": false
   },
   "outputs": [],
   "source": [
    "totalvocab_stemmed = []\n",
    "totalvocab_tokenized = []\n",
    "for i in range(data.shape[0]):\n",
    "    allwords_stemmed = token_stem(str(data['reviews.text'][i])) \n",
    "    totalvocab_stemmed.extend(allwords_stemmed) \n",
    "    \n",
    "    allwords_tokenized = tokenize(str(data['reviews.text'][i]))\n",
    "    totalvocab_tokenized.extend(allwords_tokenized)"
   ]
  },
  {
   "cell_type": "markdown",
   "metadata": {},
   "source": [
    "## Use tfidf to build features"
   ]
  },
  {
   "cell_type": "code",
   "execution_count": 169,
   "metadata": {
    "collapsed": true
   },
   "outputs": [],
   "source": [
    "from sklearn.feature_extraction.text import TfidfVectorizer,CountVectorizer,TfidfTransformer\n",
    "from sklearn.cluster import KMeans\n",
    "from sklearn.metrics.pairwise import cosine_similarity"
   ]
  },
  {
   "cell_type": "code",
   "execution_count": null,
   "metadata": {
    "collapsed": true
   },
   "outputs": [],
   "source": [
    "#delete null data\n",
    "data_km = data.loc[data['reviews.text'].notnull()&data['reviews.username'].notnull()]"
   ]
  },
  {
   "cell_type": "code",
   "execution_count": 379,
   "metadata": {
    "collapsed": false
   },
   "outputs": [
    {
     "name": "stdout",
     "output_type": "stream",
     "text": [
      "Wall time: 54.9 s\n"
     ]
    }
   ],
   "source": [
    "data_notnull = data_km['reviews.text']\n",
    "tfidf_vectorizer = TfidfVectorizer(\n",
    "                                 min_df=0.005, stop_words=stop_words_list,\n",
    "                                 use_idf=True, tokenizer=token_stem)\n",
    "\n",
    "%time tfidf_matrix = tfidf_vectorizer.fit_transform(data_notnull)"
   ]
  },
  {
   "cell_type": "code",
   "execution_count": 380,
   "metadata": {
    "collapsed": false
   },
   "outputs": [
    {
     "data": {
      "text/html": [
       "<div>\n",
       "<table border=\"1\" class=\"dataframe\">\n",
       "  <thead>\n",
       "    <tr style=\"text-align: right;\">\n",
       "      <th></th>\n",
       "      <th>'d</th>\n",
       "      <th>'m</th>\n",
       "      <th>'s</th>\n",
       "      <th>2nd</th>\n",
       "      <th>a/c</th>\n",
       "      <th>abl</th>\n",
       "      <th>abov</th>\n",
       "      <th>absolut</th>\n",
       "      <th>ac</th>\n",
       "      <th>access</th>\n",
       "      <th>...</th>\n",
       "      <th>wonder</th>\n",
       "      <th>work</th>\n",
       "      <th>worn</th>\n",
       "      <th>worst</th>\n",
       "      <th>worth</th>\n",
       "      <th>would</th>\n",
       "      <th>wrong</th>\n",
       "      <th>year</th>\n",
       "      <th>yet</th>\n",
       "      <th>yp</th>\n",
       "    </tr>\n",
       "  </thead>\n",
       "  <tbody>\n",
       "    <tr>\n",
       "      <th>0</th>\n",
       "      <td>0.0</td>\n",
       "      <td>0.0</td>\n",
       "      <td>0.0</td>\n",
       "      <td>0.0</td>\n",
       "      <td>0.0</td>\n",
       "      <td>0.0</td>\n",
       "      <td>0.0</td>\n",
       "      <td>0.0</td>\n",
       "      <td>0.0</td>\n",
       "      <td>0.0</td>\n",
       "      <td>...</td>\n",
       "      <td>0.0</td>\n",
       "      <td>0.194057</td>\n",
       "      <td>0.0</td>\n",
       "      <td>0.0</td>\n",
       "      <td>0.0</td>\n",
       "      <td>0.0</td>\n",
       "      <td>0.0</td>\n",
       "      <td>0.0</td>\n",
       "      <td>0.0</td>\n",
       "      <td>0.0</td>\n",
       "    </tr>\n",
       "    <tr>\n",
       "      <th>1</th>\n",
       "      <td>0.0</td>\n",
       "      <td>0.0</td>\n",
       "      <td>0.0</td>\n",
       "      <td>0.0</td>\n",
       "      <td>0.0</td>\n",
       "      <td>0.0</td>\n",
       "      <td>0.0</td>\n",
       "      <td>0.0</td>\n",
       "      <td>0.0</td>\n",
       "      <td>0.0</td>\n",
       "      <td>...</td>\n",
       "      <td>0.0</td>\n",
       "      <td>0.000000</td>\n",
       "      <td>0.0</td>\n",
       "      <td>0.0</td>\n",
       "      <td>0.0</td>\n",
       "      <td>0.0</td>\n",
       "      <td>0.0</td>\n",
       "      <td>0.0</td>\n",
       "      <td>0.0</td>\n",
       "      <td>0.0</td>\n",
       "    </tr>\n",
       "    <tr>\n",
       "      <th>2</th>\n",
       "      <td>0.0</td>\n",
       "      <td>0.0</td>\n",
       "      <td>0.0</td>\n",
       "      <td>0.0</td>\n",
       "      <td>0.0</td>\n",
       "      <td>0.0</td>\n",
       "      <td>0.0</td>\n",
       "      <td>0.0</td>\n",
       "      <td>0.0</td>\n",
       "      <td>0.0</td>\n",
       "      <td>...</td>\n",
       "      <td>0.0</td>\n",
       "      <td>0.000000</td>\n",
       "      <td>0.0</td>\n",
       "      <td>0.0</td>\n",
       "      <td>0.0</td>\n",
       "      <td>0.0</td>\n",
       "      <td>0.0</td>\n",
       "      <td>0.0</td>\n",
       "      <td>0.0</td>\n",
       "      <td>0.0</td>\n",
       "    </tr>\n",
       "    <tr>\n",
       "      <th>3</th>\n",
       "      <td>0.0</td>\n",
       "      <td>0.0</td>\n",
       "      <td>0.0</td>\n",
       "      <td>0.0</td>\n",
       "      <td>0.0</td>\n",
       "      <td>0.0</td>\n",
       "      <td>0.0</td>\n",
       "      <td>0.0</td>\n",
       "      <td>0.0</td>\n",
       "      <td>0.0</td>\n",
       "      <td>...</td>\n",
       "      <td>0.0</td>\n",
       "      <td>0.000000</td>\n",
       "      <td>0.0</td>\n",
       "      <td>0.0</td>\n",
       "      <td>0.0</td>\n",
       "      <td>0.0</td>\n",
       "      <td>0.0</td>\n",
       "      <td>0.0</td>\n",
       "      <td>0.0</td>\n",
       "      <td>0.0</td>\n",
       "    </tr>\n",
       "    <tr>\n",
       "      <th>4</th>\n",
       "      <td>0.0</td>\n",
       "      <td>0.0</td>\n",
       "      <td>0.0</td>\n",
       "      <td>0.0</td>\n",
       "      <td>0.0</td>\n",
       "      <td>0.0</td>\n",
       "      <td>0.0</td>\n",
       "      <td>0.0</td>\n",
       "      <td>0.0</td>\n",
       "      <td>0.0</td>\n",
       "      <td>...</td>\n",
       "      <td>0.0</td>\n",
       "      <td>0.000000</td>\n",
       "      <td>0.0</td>\n",
       "      <td>0.0</td>\n",
       "      <td>0.0</td>\n",
       "      <td>0.0</td>\n",
       "      <td>0.0</td>\n",
       "      <td>0.0</td>\n",
       "      <td>0.0</td>\n",
       "      <td>0.0</td>\n",
       "    </tr>\n",
       "  </tbody>\n",
       "</table>\n",
       "<p>5 rows × 750 columns</p>\n",
       "</div>"
      ],
      "text/plain": [
       "    'd   'm   's  2nd  a/c  abl  abov  absolut   ac  access ...   wonder  \\\n",
       "0  0.0  0.0  0.0  0.0  0.0  0.0   0.0      0.0  0.0     0.0 ...      0.0   \n",
       "1  0.0  0.0  0.0  0.0  0.0  0.0   0.0      0.0  0.0     0.0 ...      0.0   \n",
       "2  0.0  0.0  0.0  0.0  0.0  0.0   0.0      0.0  0.0     0.0 ...      0.0   \n",
       "3  0.0  0.0  0.0  0.0  0.0  0.0   0.0      0.0  0.0     0.0 ...      0.0   \n",
       "4  0.0  0.0  0.0  0.0  0.0  0.0   0.0      0.0  0.0     0.0 ...      0.0   \n",
       "\n",
       "       work  worn  worst  worth  would  wrong  year  yet   yp  \n",
       "0  0.194057   0.0    0.0    0.0    0.0    0.0   0.0  0.0  0.0  \n",
       "1  0.000000   0.0    0.0    0.0    0.0    0.0   0.0  0.0  0.0  \n",
       "2  0.000000   0.0    0.0    0.0    0.0    0.0   0.0  0.0  0.0  \n",
       "3  0.000000   0.0    0.0    0.0    0.0    0.0   0.0  0.0  0.0  \n",
       "4  0.000000   0.0    0.0    0.0    0.0    0.0   0.0  0.0  0.0  \n",
       "\n",
       "[5 rows x 750 columns]"
      ]
     },
     "execution_count": 380,
     "metadata": {},
     "output_type": "execute_result"
    }
   ],
   "source": [
    "data_text = pd.DataFrame(tfidf_matrix.toarray(),columns = tfidf_vectorizer.get_feature_names())\n",
    "data_text.head()"
   ]
  },
  {
   "cell_type": "markdown",
   "metadata": {},
   "source": [
    "## Add user information, whether username contain integer, space"
   ]
  },
  {
   "cell_type": "code",
   "execution_count": 370,
   "metadata": {
    "collapsed": false
   },
   "outputs": [],
   "source": [
    "#doest user name contain space\n",
    "space_list=[]\n",
    "name_list = data_km['reviews.username'].tolist()\n",
    "for i in range(data_km.shape[0]):\n",
    "    a = ' ' in name_list[i]\n",
    "    space_list.append(a)\n",
    "space_list = [int(x==True) for x in space_list]\n",
    "\n",
    "#doest user name contain integer\n",
    "num_list= []\n",
    "for i in range(data_km.shape[0]):\n",
    "    b = any(char.isdigit() for char in name_list[i])\n",
    "    num_list.append(b)\n",
    "num_list = [int(x==True) for x in num_list]\n",
    "\n",
    "data_user = pd.DataFrame({'contain_integer':num_list,'contain_space':space_list})"
   ]
  },
  {
   "cell_type": "code",
   "execution_count": 441,
   "metadata": {
    "collapsed": false
   },
   "outputs": [
    {
     "data": {
      "text/plain": [
       "35847"
      ]
     },
     "execution_count": 441,
     "metadata": {},
     "output_type": "execute_result"
    }
   ],
   "source": [
    "len(num_list)"
   ]
  },
  {
   "cell_type": "code",
   "execution_count": 373,
   "metadata": {
    "collapsed": false
   },
   "outputs": [
    {
     "data": {
      "text/plain": [
       "(35847, 2023)"
      ]
     },
     "execution_count": 373,
     "metadata": {},
     "output_type": "execute_result"
    }
   ],
   "source": [
    "data_final = data_text.join(data_user)\n",
    "data_final.shape"
   ]
  },
  {
   "cell_type": "markdown",
   "metadata": {},
   "source": [
    "## Build kmeans, use elbow plot to decide the number of clusters"
   ]
  },
  {
   "cell_type": "code",
   "execution_count": 403,
   "metadata": {
    "collapsed": false
   },
   "outputs": [
    {
     "data": {
      "text/plain": [
       "[<matplotlib.lines.Line2D at 0x198a7ff6780>]"
      ]
     },
     "execution_count": 403,
     "metadata": {},
     "output_type": "execute_result"
    },
    {
     "data": {
      "image/png": "[encoded data removed]",
      "text/plain": [
       "<matplotlib.figure.Figure at 0x198a7f014e0>"
      ]
     },
     "metadata": {},
     "output_type": "display_data"
    }
   ],
   "source": [
    "from sklearn.cluster import KMeans\n",
    "\n",
    "#num_clusters = 10\n",
    "inertia = []\n",
    "for i in range(1,20):\n",
    "    km = KMeans(n_clusters=i)\n",
    "    km.fit(data_final)\n",
    "    inertia.append(km.inertia_)\n",
    "plt.plot(inertia)"
   ]
  },
  {
   "cell_type": "markdown",
   "metadata": {},
   "source": [
    "### choose 7 clusters"
   ]
  },
  {
   "cell_type": "code",
   "execution_count": 404,
   "metadata": {
    "collapsed": false
   },
   "outputs": [],
   "source": [
    "#choose the knee\n",
    "n=7\n",
    "km = KMeans(n_clusters=n)\n",
    "km.fit(data_final)\n",
    "cluster = km.labels_.tolist()\n"
   ]
  },
  {
   "cell_type": "code",
   "execution_count": 405,
   "metadata": {
    "collapsed": true
   },
   "outputs": [],
   "source": [
    "data_cluster = pd.DataFrame({'clustering_number': cluster})\n",
    "data_cluster = data_final.join(data_cluster)"
   ]
  },
  {
   "cell_type": "code",
   "execution_count": 406,
   "metadata": {
    "collapsed": false
   },
   "outputs": [
    {
     "data": {
      "text/plain": [
       "<matplotlib.axes._subplots.AxesSubplot at 0x198a800f3c8>"
      ]
     },
     "execution_count": 406,
     "metadata": {},
     "output_type": "execute_result"
    },
    {
     "data": {
      "image/png": "[encoded data removed]",
      "text/plain": [
       "<matplotlib.figure.Figure at 0x198a7f01a58>"
      ]
     },
     "metadata": {},
     "output_type": "display_data"
    }
   ],
   "source": [
    "data_cluster['clustering_number'].value_counts().plot(kind='bar')"
   ]
  },
  {
   "cell_type": "code",
   "execution_count": 407,
   "metadata": {
    "collapsed": false
   },
   "outputs": [],
   "source": [
    "# add ratings\n",
    "ratings = data.loc[data['reviews.text'].notnull()&data['reviews.username'].notnull(),'reviews.rating']\n",
    "data_rating = data_cluster.join(ratings)\n"
   ]
  },
  {
   "cell_type": "code",
   "execution_count": 408,
   "metadata": {
    "collapsed": false
   },
   "outputs": [],
   "source": [
    "#add text length\n",
    "text_length = data.loc[data['reviews.text'].notnull()&data['reviews.username'].notnull(),'review_length']\n",
    "data_text = data_rating.join(text_length)"
   ]
  },
  {
   "cell_type": "markdown",
   "metadata": {},
   "source": [
    "### Does word length matter?"
   ]
  },
  {
   "cell_type": "code",
   "execution_count": 410,
   "metadata": {
    "collapsed": false
   },
   "outputs": [
    {
     "data": {
      "text/html": [
       "<div>\n",
       "<table border=\"1\" class=\"dataframe\">\n",
       "  <thead>\n",
       "    <tr style=\"text-align: right;\">\n",
       "      <th></th>\n",
       "      <th>review_length</th>\n",
       "      <th>reviews.rating</th>\n",
       "    </tr>\n",
       "    <tr>\n",
       "      <th>clustering_number</th>\n",
       "      <th></th>\n",
       "      <th></th>\n",
       "    </tr>\n",
       "  </thead>\n",
       "  <tbody>\n",
       "    <tr>\n",
       "      <th>6</th>\n",
       "      <td>246.803238</td>\n",
       "      <td>3.976972</td>\n",
       "    </tr>\n",
       "    <tr>\n",
       "      <th>3</th>\n",
       "      <td>243.940163</td>\n",
       "      <td>3.892612</td>\n",
       "    </tr>\n",
       "    <tr>\n",
       "      <th>2</th>\n",
       "      <td>272.102960</td>\n",
       "      <td>3.848837</td>\n",
       "    </tr>\n",
       "    <tr>\n",
       "      <th>0</th>\n",
       "      <td>245.326177</td>\n",
       "      <td>3.808412</td>\n",
       "    </tr>\n",
       "    <tr>\n",
       "      <th>1</th>\n",
       "      <td>258.316041</td>\n",
       "      <td>3.756206</td>\n",
       "    </tr>\n",
       "    <tr>\n",
       "      <th>4</th>\n",
       "      <td>250.576262</td>\n",
       "      <td>3.692802</td>\n",
       "    </tr>\n",
       "    <tr>\n",
       "      <th>5</th>\n",
       "      <td>240.125628</td>\n",
       "      <td>3.554922</td>\n",
       "    </tr>\n",
       "  </tbody>\n",
       "</table>\n",
       "</div>"
      ],
      "text/plain": [
       "                   review_length  reviews.rating\n",
       "clustering_number                               \n",
       "6                     246.803238        3.976972\n",
       "3                     243.940163        3.892612\n",
       "2                     272.102960        3.848837\n",
       "0                     245.326177        3.808412\n",
       "1                     258.316041        3.756206\n",
       "4                     250.576262        3.692802\n",
       "5                     240.125628        3.554922"
      ]
     },
     "execution_count": 410,
     "metadata": {},
     "output_type": "execute_result"
    }
   ],
   "source": [
    "\n",
    "data_text.groupby('clustering_number').agg({'reviews.rating': 'mean','review_length':'mean'}).sort_values(by='reviews.rating',ascending=False)"
   ]
  },
  {
   "cell_type": "markdown",
   "metadata": {},
   "source": [
    "## Inspect each cluster"
   ]
  },
  {
   "cell_type": "code",
   "execution_count": 412,
   "metadata": {
    "collapsed": false
   },
   "outputs": [
    {
     "data": {
      "image/png": "[encoded data removed]",
      "text/plain": [
       "<matplotlib.figure.Figure at 0x1989debe080>"
      ]
     },
     "metadata": {},
     "output_type": "display_data"
    }
   ],
   "source": [
    "#cluster inspection\n",
    "\n",
    "plt.figure(figsize=(20,20))\n",
    "for i in range(7):\n",
    "    plt.subplot(3,4,i+1)\n",
    "    p = data_text[data_text['clustering_number']==i]['reviews.rating'].value_counts().plot('bar')\n",
    "    p.set_xlabel(i)"
   ]
  },
  {
   "cell_type": "markdown",
   "metadata": {},
   "source": [
    "## Check names associated with 5 star ratings under cluster no.6"
   ]
  },
  {
   "cell_type": "code",
   "execution_count": 413,
   "metadata": {
    "collapsed": false
   },
   "outputs": [],
   "source": [
    "# add username\n",
    "names = data.loc[data['reviews.text'].notnull()&data['reviews.username'].notnull(),'reviews.username']\n",
    "data_names = data_text.join(names)\n"
   ]
  },
  {
   "cell_type": "code",
   "execution_count": 452,
   "metadata": {
    "collapsed": false
   },
   "outputs": [
    {
     "data": {
      "text/plain": [
       "['A Traveler',\n",
       " 'A Traveler',\n",
       " 'A Traveler',\n",
       " 'A Traveler',\n",
       " 'A Traveler',\n",
       " 'Steven Flaskerud',\n",
       " 'A Traveler',\n",
       " 'John Paul',\n",
       " 'A verified traveler',\n",
       " 'A verified traveler',\n",
       " 'A verified traveler',\n",
       " 'Passing through',\n",
       " 'A Traveler',\n",
       " 'William',\n",
       " 'Rosalind',\n",
       " 'Louise',\n",
       " 'Johanna',\n",
       " 'claire',\n",
       " 'A Traveler',\n",
       " 'A Traveler',\n",
       " 'wendy',\n",
       " 'Arthur H',\n",
       " 'Jason Reagan',\n",
       " 'A Traveler',\n",
       " 'Cheryl',\n",
       " 'Jessica R',\n",
       " 'John D',\n",
       " 'Jessica R',\n",
       " 'Jason Pan',\n",
       " 'TWO MEN AND A TRUCK',\n",
       " 'jessjames',\n",
       " 'Sharyn Ortega',\n",
       " 'Robert',\n",
       " 'Donald Williams',\n",
       " 'r.h.',\n",
       " 'Cox-Family-SC',\n",
       " 'A Traveler',\n",
       " 'A Traveler',\n",
       " 'SADDLmom',\n",
       " 'April Tewksbury Greenleaf',\n",
       " 'Ciceroboyindiana',\n",
       " 'AJ H',\n",
       " 'Katie U',\n",
       " 'johnbukie',\n",
       " 'Kelly L',\n",
       " 'John H',\n",
       " 'Bruce Reyes-Chow',\n",
       " 'Sarah Savoie',\n",
       " 'Pamela P',\n",
       " 'Asael A',\n",
       " 'Amsison36',\n",
       " 'Corey B',\n",
       " 'mytravelperspective',\n",
       " 'Christian R',\n",
       " 'Katherine V',\n",
       " 'George R',\n",
       " 'jacqueline and anthony',\n",
       " 'Joan',\n",
       " 'Karen D',\n",
       " 'Sarah Tomlin',\n",
       " 'Philip V',\n",
       " 'A Traveler',\n",
       " 'Linda',\n",
       " 'Lori',\n",
       " 'Qualnurse',\n",
       " 'Ed',\n",
       " 'A verified traveler',\n",
       " 'Judy',\n",
       " 'Janet J',\n",
       " 'A Traveler',\n",
       " 'robanddar',\n",
       " 'azoak',\n",
       " 'Howard C',\n",
       " 'NIKOLAOS',\n",
       " 'A verified traveler',\n",
       " 'A verified traveler',\n",
       " 'Steve',\n",
       " 'A verified traveler',\n",
       " 'William',\n",
       " 'A verified traveler',\n",
       " 'Miriam',\n",
       " 'A verified traveler',\n",
       " 'A verified traveler',\n",
       " 'Pam',\n",
       " 'Rus',\n",
       " 'A verified traveler',\n",
       " 'Amy Mtn',\n",
       " 'talman',\n",
       " 'A verified traveler',\n",
       " 'A verified traveler',\n",
       " 'Tina R.',\n",
       " 'A verified traveler',\n",
       " 'A verified traveler',\n",
       " 'Vicki',\n",
       " 'A verified traveler',\n",
       " 'Nick',\n",
       " 'LG',\n",
       " 'A verified traveler',\n",
       " 'A verified traveler',\n",
       " 'A verified traveler',\n",
       " 'A verified traveler',\n",
       " 'A verified traveler',\n",
       " 'Ed',\n",
       " 'A verified traveler',\n",
       " 'Arslan Khan',\n",
       " 'Chris',\n",
       " 'A verified traveler',\n",
       " 'A verified traveler',\n",
       " 'A verified traveler',\n",
       " 'Karen',\n",
       " 'A verified traveler',\n",
       " 'Sidney',\n",
       " 'A verified traveler',\n",
       " 'A verified traveler',\n",
       " 'A verified traveler',\n",
       " 'Steven',\n",
       " 'A verified traveler',\n",
       " 'A verified traveler',\n",
       " 'A verified traveler',\n",
       " 'Tabi',\n",
       " 'A verified traveler',\n",
       " 'A verified traveler',\n",
       " 'Bevan',\n",
       " 'A verified traveler',\n",
       " 'A verified traveler',\n",
       " 'A verified traveler',\n",
       " 'A verified traveler',\n",
       " 'A verified traveler',\n",
       " 'A verified traveler',\n",
       " 'David',\n",
       " 'David E',\n",
       " 'A verified traveler',\n",
       " 'Chi-mama',\n",
       " 'A verified traveler',\n",
       " 'A verified traveler',\n",
       " 'Kevin',\n",
       " 'A verified traveler',\n",
       " 'A verified traveler',\n",
       " 'A verified traveler',\n",
       " 'SDS',\n",
       " 'A verified traveler',\n",
       " 'Christine',\n",
       " 'STEPHEN',\n",
       " 'A verified traveler',\n",
       " 'Roberta / Fabiana',\n",
       " 'A verified traveler',\n",
       " 'A verified traveler',\n",
       " 'A verified traveler',\n",
       " 'A verified traveler',\n",
       " 'A verified traveler',\n",
       " 'Kurt',\n",
       " 'A verified traveler',\n",
       " 'A verified traveler',\n",
       " 'A verified traveler',\n",
       " 'Rodney W. Smith',\n",
       " 'Joseph',\n",
       " 'Lisa, Mateo & Micah',\n",
       " 'A verified traveler',\n",
       " 'A verified traveler',\n",
       " 'A verified traveler',\n",
       " 'A verified traveler',\n",
       " 'A verified traveler',\n",
       " 'dweebe',\n",
       " 'A Traveler',\n",
       " 'Snow Aeris',\n",
       " 'A Traveler',\n",
       " 'elvira from TX',\n",
       " 'jeffrozic',\n",
       " 'A Traveler',\n",
       " 'BoardsBraids',\n",
       " 'Andrea L',\n",
       " '_jcoffen',\n",
       " 'Alex O',\n",
       " 'samsmart',\n",
       " 'Bestimplantdentist',\n",
       " 'Yoni',\n",
       " 'Iris',\n",
       " 'A Traveler',\n",
       " 'Glenn',\n",
       " 'B',\n",
       " 'Renee',\n",
       " 'A Traveler',\n",
       " 'Jamillah',\n",
       " 'Peter',\n",
       " 'Gordon',\n",
       " 'Keith',\n",
       " 'A Traveler',\n",
       " 'Brant',\n",
       " 'A Traveler',\n",
       " 'A verified traveler',\n",
       " 'B-Neck',\n",
       " 'Chris et Dric',\n",
       " 'A verified traveler',\n",
       " 'A Traveler',\n",
       " 'Peter',\n",
       " 'A Traveler',\n",
       " 'A Traveler',\n",
       " 'Gisle',\n",
       " 'BeaEva2013',\n",
       " 'glenn',\n",
       " 'RachelL58',\n",
       " 'Melanie H',\n",
       " 'Robert C',\n",
       " 'susanandbillc',\n",
       " 'kirk',\n",
       " 'Michael',\n",
       " 'V',\n",
       " 'A Traveler',\n",
       " 'Valerie',\n",
       " 'Patrck',\n",
       " 'George',\n",
       " 'Abel',\n",
       " 'Chris Peck',\n",
       " 'Donna',\n",
       " 'SlowSoloTraveler',\n",
       " 'Teresa',\n",
       " 'glass54258',\n",
       " 'A Traveler',\n",
       " 'Arlene',\n",
       " 'Anna Y',\n",
       " 'Ricky',\n",
       " 'Angie',\n",
       " 'A Traveler',\n",
       " 'Azy03',\n",
       " 'Kerry',\n",
       " 'candy j',\n",
       " 'Hyo Scheld',\n",
       " 'Rockette',\n",
       " 'Sara',\n",
       " 'Mehdi M',\n",
       " 'Hakuju L',\n",
       " 'scot s',\n",
       " 'Carrie_a_w',\n",
       " 'christopherf654',\n",
       " 'A Traveler',\n",
       " 'A Traveler',\n",
       " 'Chan',\n",
       " 'Stephen',\n",
       " 'Safoat',\n",
       " 'A Traveler',\n",
       " 'A Traveler',\n",
       " 'A Traveler',\n",
       " 'c4u_fine',\n",
       " 'Christian',\n",
       " 'Joseph S',\n",
       " 'JULIA',\n",
       " 'Jeff',\n",
       " 'A Traveler',\n",
       " 'A Traveler',\n",
       " 'Tonja',\n",
       " 'ERIKA',\n",
       " 'Cc B',\n",
       " 'Eric Volk',\n",
       " 'Mary',\n",
       " 'Cathie M',\n",
       " 'Chris S',\n",
       " 'rvwaterbug',\n",
       " '335bridgetv',\n",
       " 'James D',\n",
       " 'Briqman',\n",
       " 'travelingman2260',\n",
       " 'Carlyn97',\n",
       " 'Guest48507',\n",
       " 'Mark H',\n",
       " 'mr_rayfinkle',\n",
       " 'Ana F',\n",
       " 'AngelicaPa',\n",
       " 'catdaisy',\n",
       " 'A Traveler',\n",
       " 'A Traveler',\n",
       " 'A Traveler',\n",
       " 'William M',\n",
       " 'food928',\n",
       " 'Nancy',\n",
       " 'Ana',\n",
       " 'Rosalba',\n",
       " 'A Traveler',\n",
       " 'R',\n",
       " 'Connie',\n",
       " 'A Traveler',\n",
       " 'Thomas',\n",
       " 'Edward R',\n",
       " 'Laurence D',\n",
       " 'Judy S',\n",
       " 'perfect',\n",
       " 'USYankee',\n",
       " 'A Traveler',\n",
       " 'Jenna',\n",
       " 'Lori',\n",
       " 'A verified traveler',\n",
       " 'O',\n",
       " 'A Traveler',\n",
       " 'Jonathan',\n",
       " 'Charlie and Carol',\n",
       " 'smartace2006',\n",
       " 'A Traveler',\n",
       " 'Tricia Asay',\n",
       " 'Laura99',\n",
       " 'DIANA',\n",
       " 'l',\n",
       " 'A Traveler',\n",
       " 'Juan',\n",
       " 'james',\n",
       " 'A Traveler',\n",
       " 'CRUZ',\n",
       " 'SuperMario584',\n",
       " 'A Traveler',\n",
       " 'A Traveler',\n",
       " 'Elizabeth',\n",
       " 'Michael',\n",
       " 'Sherry',\n",
       " 'Elizabeth',\n",
       " 'Lawrence',\n",
       " 'Girly',\n",
       " 'A Traveler',\n",
       " 'Ularu',\n",
       " 'Sharlene',\n",
       " 'A Traveler',\n",
       " 'zach c',\n",
       " 'illinoisrob',\n",
       " 'Debra R',\n",
       " 'A Traveler',\n",
       " 'Jennifer',\n",
       " 'Ebreeden',\n",
       " 'Mike A',\n",
       " 'Blake A',\n",
       " 'CHIARA',\n",
       " 'Jeni',\n",
       " 'Andrew w.',\n",
       " 'behappytimslim18',\n",
       " 'alice a.',\n",
       " 'Stanford',\n",
       " 'ypsi-slim',\n",
       " 'Anthony',\n",
       " 'Jacqueline\\\\\",,https://www.hotels.com/hotel/136288/reviews%20/',\n",
       " 'Chris Juzwik',\n",
       " 'Renny Gonzalez',\n",
       " 'Sharkia',\n",
       " 'A Traveler',\n",
       " 'Ashok',\n",
       " 'anonymous',\n",
       " 'Thegreenfork',\n",
       " 'Dave',\n",
       " 'gladewalker',\n",
       " 'Ceenyc 8',\n",
       " 'A Traveler',\n",
       " 'Will',\n",
       " 'Frances',\n",
       " 'A Traveler',\n",
       " 'steven',\n",
       " 'A Traveler',\n",
       " 'Kristin',\n",
       " 'Rhett Moeller',\n",
       " 'raph508',\n",
       " 'Hamden07',\n",
       " 'Laura',\n",
       " 'A Traveler',\n",
       " 'A Traveler',\n",
       " 'Steve',\n",
       " 'A Traveler',\n",
       " 'Paula',\n",
       " 'A Traveler',\n",
       " 'Joel',\n",
       " 'Donna',\n",
       " 'Paul R',\n",
       " 'Joseph',\n",
       " 'Sherry',\n",
       " 'amy',\n",
       " 'Ali Rizzo',\n",
       " 'Peter',\n",
       " 'shawn m',\n",
       " 'Dyfed R',\n",
       " 'Judy F',\n",
       " 'Rayx2mac',\n",
       " 'Ami',\n",
       " 'Michael',\n",
       " 'A Traveler',\n",
       " 'Larry',\n",
       " 'Lisa Heinlein',\n",
       " 'lama4',\n",
       " 'Jess V',\n",
       " 'Janet J',\n",
       " 'Berna M',\n",
       " '985debraf',\n",
       " 'carlos',\n",
       " 'Carmen',\n",
       " 'sherry',\n",
       " 'Leigh A',\n",
       " 'Christopher',\n",
       " 'Gavin Menzato',\n",
       " 'Ticketwood-com',\n",
       " 'A Traveler',\n",
       " 'Jessica Pongetti',\n",
       " 'Angela Eldridge',\n",
       " 'Olivia',\n",
       " 'A Traveler',\n",
       " 'Rob Kischuk',\n",
       " 'Bill',\n",
       " 'A Traveler',\n",
       " 'A Traveler',\n",
       " 'A Traveler',\n",
       " 'A Traveler',\n",
       " 'Timothy Qualls',\n",
       " 'David',\n",
       " 'A Traveler',\n",
       " 'Gabriella Sannino',\n",
       " 'Herbert S',\n",
       " 'Lovegoldens4',\n",
       " 'Jerrick B',\n",
       " 'Micheal H',\n",
       " 'Linda',\n",
       " 'Anita L',\n",
       " 'A Traveler',\n",
       " 'Candace R',\n",
       " 'John',\n",
       " 'A Traveler',\n",
       " 'jsrodgers',\n",
       " 'Julie L',\n",
       " 'Melisa',\n",
       " 'Steven',\n",
       " 'Lion',\n",
       " 'PatienceWonderful',\n",
       " 'Jean-Claude',\n",
       " 'voyager005',\n",
       " 'Lizzie',\n",
       " 'A Traveler',\n",
       " 'Bryan',\n",
       " 'Ginny',\n",
       " 'c',\n",
       " 'Lisa',\n",
       " 'Stephanie Rochford',\n",
       " 'Michael',\n",
       " 'Susie and Bill',\n",
       " 'Brian M',\n",
       " '2013_Shirley',\n",
       " 'Lilliane',\n",
       " 'Jeanne',\n",
       " 'James',\n",
       " 'Mike',\n",
       " 'Daniel',\n",
       " 'karl',\n",
       " 'Peg',\n",
       " 'strngr12',\n",
       " 'Richard',\n",
       " 'Nancy',\n",
       " 'A Traveler',\n",
       " 'A Traveler',\n",
       " 'Contributor',\n",
       " 'A Traveler',\n",
       " 'KenBork',\n",
       " 'R M',\n",
       " 'ccoult',\n",
       " 'Shanfamfour',\n",
       " 'Carol/Jeff/Abe',\n",
       " 'A Traveler',\n",
       " 'Gregory',\n",
       " 'DANNY',\n",
       " 'viridiana',\n",
       " '4Enterprises',\n",
       " 'Charles',\n",
       " 'Bob S',\n",
       " 'ddennis1964',\n",
       " 'mark_mailloux',\n",
       " 'Rick K',\n",
       " 'Terecita',\n",
       " 'Sonya Phillips-Tytler',\n",
       " 'A Traveler',\n",
       " 'A Traveler',\n",
       " 'A Traveler',\n",
       " 'Shel A',\n",
       " 'Stephannie F',\n",
       " 'PinaColadaLover',\n",
       " 'Heather',\n",
       " 'anonymous',\n",
       " 'Ditt56',\n",
       " 'wilsj053',\n",
       " 'inacio',\n",
       " 'Pufffishman',\n",
       " 'Bette T',\n",
       " 'Serena Behofsits',\n",
       " 'Erin W',\n",
       " 'A Traveler',\n",
       " 'RCAF831',\n",
       " 'Nancy',\n",
       " 'Richard A',\n",
       " 'AlCarl',\n",
       " 'Colin',\n",
       " 'Jordan',\n",
       " 'douglaso673',\n",
       " 'Darla',\n",
       " 'Baldemar',\n",
       " 'Jessica S',\n",
       " 'Karen K',\n",
       " 'Thomas D',\n",
       " 'Darlene F',\n",
       " 'Willie J',\n",
       " 'Anne C',\n",
       " 'Vic W',\n",
       " 'John',\n",
       " 'Kelly M',\n",
       " 'Jeremy S',\n",
       " 'Spreak',\n",
       " 'Theresa D',\n",
       " 'James T J',\n",
       " 'William C',\n",
       " 'jayhawkgrant',\n",
       " 'Richard H',\n",
       " 'Douglas C',\n",
       " 'A verified traveler',\n",
       " 'A verified traveler',\n",
       " 'A verified traveler',\n",
       " 'A verified traveler',\n",
       " 'A Traveler',\n",
       " 'Markita',\n",
       " 'William',\n",
       " 'Roydon',\n",
       " 'Zachary',\n",
       " 'Feroza',\n",
       " 'Angela',\n",
       " 'Kelly C',\n",
       " 'Tarheeltony',\n",
       " 'Angelica Barbieri',\n",
       " 'A Traveler',\n",
       " 'jg3arrow',\n",
       " 'Rachel2014123',\n",
       " 'DeanJC',\n",
       " 'A Traveler',\n",
       " 'Antony Kennedy',\n",
       " 'S',\n",
       " 'Matt A',\n",
       " 'Hotel WiFi Test',\n",
       " 'Ashley Connolly',\n",
       " 'Ibtisam',\n",
       " 'by Nirvana H at Insider Pages',\n",
       " 'Etienne Vientienne',\n",
       " 'Stephanie Mickens',\n",
       " 'Jeff Rohr',\n",
       " 'Alice Daer',\n",
       " 'deazy86',\n",
       " 'Louis Jolly',\n",
       " 'Citysearch User',\n",
       " 'Donna',\n",
       " 'A Traveler',\n",
       " 'Steve',\n",
       " 'A Traveler',\n",
       " 'Robert',\n",
       " 'Grace Highlander',\n",
       " 'Damon B',\n",
       " 'Nancy S',\n",
       " 'OceanicLostMyLuggage',\n",
       " 'Harold',\n",
       " 'A Traveler',\n",
       " 'A Traveler',\n",
       " 'David',\n",
       " 'Daveanator',\n",
       " 'devilsquid01',\n",
       " 'Robert',\n",
       " 'irishgx',\n",
       " 'Dana V',\n",
       " 'HankW80',\n",
       " 'ThemeParkConnection',\n",
       " 'DrSteve818',\n",
       " 'BeyondTheSeen',\n",
       " 'Scott F',\n",
       " 'Sean O',\n",
       " 'James',\n",
       " 'A Traveler',\n",
       " 'Esther',\n",
       " 'CHRISTINA',\n",
       " 'Bernard',\n",
       " 'Carlos Calderon',\n",
       " 'Deborah',\n",
       " 'ccampbell1424',\n",
       " 'Linda R',\n",
       " 'Yoel',\n",
       " 'Chad',\n",
       " 'ahitt',\n",
       " 'djraj2014',\n",
       " 'Andrea',\n",
       " 'Guoying',\n",
       " 'nichole',\n",
       " 'Jason Gilbert M',\n",
       " 'Ellis',\n",
       " 'David Parker',\n",
       " 'Ariel',\n",
       " 'Tandi',\n",
       " 'roy',\n",
       " 'A Traveler',\n",
       " 'Lauren B',\n",
       " 'Jessica',\n",
       " 'Ambrea',\n",
       " 'Kathy',\n",
       " 'Lisa',\n",
       " 'A Traveler',\n",
       " 'Laura',\n",
       " 'lawrence',\n",
       " 'A Traveler',\n",
       " 'Barbara Collier',\n",
       " 'aida',\n",
       " 'Chris',\n",
       " 'patricia',\n",
       " 'A Traveler',\n",
       " 'A Traveler',\n",
       " 'Tom M',\n",
       " 'noorshasha',\n",
       " 'Mary',\n",
       " 'Patrick Vergara',\n",
       " 'P',\n",
       " 'A Traveler',\n",
       " 'A Traveler',\n",
       " 'Christopher',\n",
       " 'Gerald',\n",
       " 'Raymond Karhut',\n",
       " 'Raymond Karhut',\n",
       " 'robertsM2649HZ',\n",
       " 'Ronda J',\n",
       " 'A Traveler',\n",
       " 'A Traveler',\n",
       " 'Steve G',\n",
       " 'Matt Elmore',\n",
       " 'vanitadiva',\n",
       " 'Tony P',\n",
       " 'Denise',\n",
       " 'RICHARD',\n",
       " 'Ernie H',\n",
       " 'Michael McMillan',\n",
       " 'Tami L',\n",
       " 'Robin C',\n",
       " 'don t',\n",
       " '������ �������� ��������',\n",
       " 'Patricia',\n",
       " 'pete',\n",
       " 'Matt',\n",
       " 'JOSEPHINE',\n",
       " 'A Traveler',\n",
       " 'pwood43 at Citysearch',\n",
       " 'pwood43',\n",
       " 'James',\n",
       " 'Jane',\n",
       " 'Mike',\n",
       " 'bendtraveler181',\n",
       " 'Mauricio',\n",
       " 'GR Pasek',\n",
       " 'Erin K',\n",
       " 'Tamara',\n",
       " 'A Traveler',\n",
       " 'Melissa H',\n",
       " 'A Traveler',\n",
       " 'Diana',\n",
       " 'peter',\n",
       " 'A Traveler',\n",
       " 'A Traveler',\n",
       " 'A Traveler',\n",
       " 'Mike',\n",
       " 'Robert H',\n",
       " 'ragjan',\n",
       " 'Barbara Santana',\n",
       " 'Mark Woodman',\n",
       " 'Charlie Hoever III',\n",
       " 'Betty',\n",
       " 'C C',\n",
       " 'Faye',\n",
       " 'heckfy',\n",
       " 'Lynette L',\n",
       " 'Gabe',\n",
       " 'Robynlynn',\n",
       " 'A Traveler']"
      ]
     },
     "execution_count": 452,
     "metadata": {},
     "output_type": "execute_result"
    }
   ],
   "source": [
    "sus_list = data_names[(data_names['clustering_number']==6)&(data_names['reviews.rating']==5)]['reviews.username'].tolist()\n",
    "sus_list"
   ]
  },
  {
   "cell_type": "markdown",
   "metadata": {},
   "source": [
    "\n",
    "## Patterns First Name with a space and a single letter caught my attention"
   ]
  },
  {
   "cell_type": "markdown",
   "metadata": {},
   "source": [
    "### Use regular expression to filter out the names that using this pattern"
   ]
  },
  {
   "cell_type": "code",
   "execution_count": 463,
   "metadata": {
    "collapsed": false
   },
   "outputs": [],
   "source": [
    "import re\n",
    "sus=[]\n",
    "for i in range(len(sus_list)):\n",
    "    e = re.findall(r'[a-zA-z]+\\s{1}[a-zA-z]{1}$', sus_list[i])\n",
    "    sus.extend(e)"
   ]
  },
  {
   "cell_type": "code",
   "execution_count": 471,
   "metadata": {
    "collapsed": false
   },
   "outputs": [],
   "source": [
    "val = []\n",
    "for i in range(len(sus)):\n",
    "    v = data_names.loc[data_names['reviews.username']==sus[i],'reviews.rating'].values\n",
    "    val.extend(v)\n"
   ]
  },
  {
   "cell_type": "markdown",
   "metadata": {},
   "source": [
    "### For this name pattern, most of reivews are 5 star"
   ]
  },
  {
   "cell_type": "code",
   "execution_count": 475,
   "metadata": {
    "collapsed": false
   },
   "outputs": [
    {
     "data": {
      "text/plain": [
       "<matplotlib.axes._subplots.AxesSubplot at 0x1989dc00dd8>"
      ]
     },
     "execution_count": 475,
     "metadata": {},
     "output_type": "execute_result"
    },
    {
     "data": {
      "image/png": "[encoded data removed]",
      "text/plain": [
       "<matplotlib.figure.Figure at 0x1989dde5c88>"
      ]
     },
     "metadata": {},
     "output_type": "display_data"
    }
   ],
   "source": [
    "df = pd.DataFrame({'suspicious users ratings':val})\n",
    "df['suspicious users ratings'].value_counts().plot('bar')"
   ]
  },
  {
   "cell_type": "markdown",
   "metadata": {},
   "source": [
    "# Next step\n",
    "## 1.  These information can be used to set up rules for further investigation\n",
    "## 2.  Scratch data from tripadvisor.com, group the data by cities, use the same method to check if different cities have the same patterns\n",
    "## 3. Compare models that use the text only to see if any improvement of accuracy"
   ]
  },
  {
   "cell_type": "code",
   "execution_count": null,
   "metadata": {
    "collapsed": true
   },
   "outputs": [],
   "source": []
  }
 ],
 "metadata": {
  "kernelspec": {
   "display_name": "Python [conda env:Anaconda3]",
   "language": "python",
   "name": "conda-env-Anaconda3-py"
  },
  "language_info": {
   "codemirror_mode": {
    "name": "ipython",
    "version": 3
   },
   "file_extension": ".py",
   "mimetype": "text/x-python",
   "name": "python",
   "nbconvert_exporter": "python",
   "pygments_lexer": "ipython3",
   "version": "3.5.2"
  }
 },
 "nbformat": 4,
 "nbformat_minor": 1
}
